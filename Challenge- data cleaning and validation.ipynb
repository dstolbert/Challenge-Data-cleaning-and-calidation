{
 "cells": [
  {
   "cell_type": "markdown",
   "metadata": {},
   "source": [
    "To complete this challenge, determine the five most common journals and the total articles for each. Next, calculate the mean, median, and standard deviation of the open-access cost per article for each journal."
   ]
  },
  {
   "cell_type": "code",
   "execution_count": 1,
   "metadata": {},
   "outputs": [],
   "source": [
    "import numpy as np\n",
    "import pandas as pd\n",
    "import re\n",
    "import matplotlib.pyplot as plt\n",
    "%matplotlib inline"
   ]
  },
  {
   "cell_type": "code",
   "execution_count": 2,
   "metadata": {},
   "outputs": [
    {
     "data": {
      "text/html": [
       "<div>\n",
       "<style scoped>\n",
       "    .dataframe tbody tr th:only-of-type {\n",
       "        vertical-align: middle;\n",
       "    }\n",
       "\n",
       "    .dataframe tbody tr th {\n",
       "        vertical-align: top;\n",
       "    }\n",
       "\n",
       "    .dataframe thead th {\n",
       "        text-align: right;\n",
       "    }\n",
       "</style>\n",
       "<table border=\"1\" class=\"dataframe\">\n",
       "  <thead>\n",
       "    <tr style=\"text-align: right;\">\n",
       "      <th></th>\n",
       "      <th>PMID/PMCID</th>\n",
       "      <th>Publisher</th>\n",
       "      <th>Journal title</th>\n",
       "      <th>Article title</th>\n",
       "      <th>Cost</th>\n",
       "    </tr>\n",
       "  </thead>\n",
       "  <tbody>\n",
       "    <tr>\n",
       "      <th>0</th>\n",
       "      <td>NaN</td>\n",
       "      <td>CUP</td>\n",
       "      <td>Psychological Medicine</td>\n",
       "      <td>Reduced parahippocampal cortical thickness in ...</td>\n",
       "      <td>£0.00</td>\n",
       "    </tr>\n",
       "    <tr>\n",
       "      <th>1</th>\n",
       "      <td>PMC3679557</td>\n",
       "      <td>ACS</td>\n",
       "      <td>Biomacromolecules</td>\n",
       "      <td>Structural characterization of a Model Gram-ne...</td>\n",
       "      <td>£2381.04</td>\n",
       "    </tr>\n",
       "    <tr>\n",
       "      <th>2</th>\n",
       "      <td>23043264  PMC3506128</td>\n",
       "      <td>ACS</td>\n",
       "      <td>J Med Chem</td>\n",
       "      <td>Fumaroylamino-4,5-epoxymorphinans and related ...</td>\n",
       "      <td>£642.56</td>\n",
       "    </tr>\n",
       "    <tr>\n",
       "      <th>3</th>\n",
       "      <td>23438330 PMC3646402</td>\n",
       "      <td>ACS</td>\n",
       "      <td>J Med Chem</td>\n",
       "      <td>Orvinols with mixed kappa/mu opioid receptor a...</td>\n",
       "      <td>£669.64</td>\n",
       "    </tr>\n",
       "    <tr>\n",
       "      <th>4</th>\n",
       "      <td>23438216 PMC3601604</td>\n",
       "      <td>ACS</td>\n",
       "      <td>J Org Chem</td>\n",
       "      <td>Regioselective opening of myo-inositol orthoes...</td>\n",
       "      <td>£685.88</td>\n",
       "    </tr>\n",
       "    <tr>\n",
       "      <th>5</th>\n",
       "      <td>PMC3579457</td>\n",
       "      <td>ACS</td>\n",
       "      <td>Journal of Medicinal Chemistry</td>\n",
       "      <td>Comparative Structural and Functional Studies ...</td>\n",
       "      <td>£2392.20</td>\n",
       "    </tr>\n",
       "    <tr>\n",
       "      <th>6</th>\n",
       "      <td>PMC3709265</td>\n",
       "      <td>ACS</td>\n",
       "      <td>Journal of Proteome Research</td>\n",
       "      <td>Mapping Proteolytic Processing in the Secretom...</td>\n",
       "      <td>£2367.95</td>\n",
       "    </tr>\n",
       "    <tr>\n",
       "      <th>7</th>\n",
       "      <td>23057412 PMC3495574</td>\n",
       "      <td>ACS</td>\n",
       "      <td>Mol Pharm</td>\n",
       "      <td>Quantitative silencing of EGFP reporter gene b...</td>\n",
       "      <td>£649.33</td>\n",
       "    </tr>\n",
       "    <tr>\n",
       "      <th>8</th>\n",
       "      <td>PMCID: PMC3780468</td>\n",
       "      <td>ACS (Amercian Chemical Society) Publications</td>\n",
       "      <td>ACS Chemical Biology</td>\n",
       "      <td>A Novel Allosteric Inhibitor of the Uridine Di...</td>\n",
       "      <td>£1294.59</td>\n",
       "    </tr>\n",
       "    <tr>\n",
       "      <th>9</th>\n",
       "      <td>PMCID: PMC3621575</td>\n",
       "      <td>ACS (Amercian Chemical Society) Publications</td>\n",
       "      <td>ACS Chemical Biology</td>\n",
       "      <td>Chemical proteomic analysis reveals the drugab...</td>\n",
       "      <td>£1294.78</td>\n",
       "    </tr>\n",
       "    <tr>\n",
       "      <th>10</th>\n",
       "      <td>PMCID: PMC3739413</td>\n",
       "      <td>ACS (Amercian Chemical Society) Publications</td>\n",
       "      <td>Journal of Chemical Information and Modeling</td>\n",
       "      <td>Locating Sweet Spots for Screening Hits and Ev...</td>\n",
       "      <td>£1329.69</td>\n",
       "    </tr>\n",
       "  </tbody>\n",
       "</table>\n",
       "</div>"
      ],
      "text/plain": [
       "               PMID/PMCID                                     Publisher  \\\n",
       "0                     NaN                                           CUP   \n",
       "1              PMC3679557                                           ACS   \n",
       "2   23043264  PMC3506128                                            ACS   \n",
       "3     23438330 PMC3646402                                           ACS   \n",
       "4    23438216 PMC3601604                                            ACS   \n",
       "5              PMC3579457                                           ACS   \n",
       "6              PMC3709265                                           ACS   \n",
       "7    23057412 PMC3495574                                            ACS   \n",
       "8       PMCID: PMC3780468  ACS (Amercian Chemical Society) Publications   \n",
       "9       PMCID: PMC3621575  ACS (Amercian Chemical Society) Publications   \n",
       "10      PMCID: PMC3739413  ACS (Amercian Chemical Society) Publications   \n",
       "\n",
       "                                   Journal title  \\\n",
       "0                         Psychological Medicine   \n",
       "1                              Biomacromolecules   \n",
       "2                                     J Med Chem   \n",
       "3                                     J Med Chem   \n",
       "4                                     J Org Chem   \n",
       "5                 Journal of Medicinal Chemistry   \n",
       "6                   Journal of Proteome Research   \n",
       "7                                      Mol Pharm   \n",
       "8                           ACS Chemical Biology   \n",
       "9                           ACS Chemical Biology   \n",
       "10  Journal of Chemical Information and Modeling   \n",
       "\n",
       "                                        Article title      Cost  \n",
       "0   Reduced parahippocampal cortical thickness in ...     £0.00  \n",
       "1   Structural characterization of a Model Gram-ne...  £2381.04  \n",
       "2   Fumaroylamino-4,5-epoxymorphinans and related ...   £642.56  \n",
       "3   Orvinols with mixed kappa/mu opioid receptor a...   £669.64  \n",
       "4   Regioselective opening of myo-inositol orthoes...   £685.88  \n",
       "5   Comparative Structural and Functional Studies ...  £2392.20  \n",
       "6   Mapping Proteolytic Processing in the Secretom...  £2367.95  \n",
       "7   Quantitative silencing of EGFP reporter gene b...   £649.33  \n",
       "8   A Novel Allosteric Inhibitor of the Uridine Di...  £1294.59  \n",
       "9   Chemical proteomic analysis reveals the drugab...  £1294.78  \n",
       "10  Locating Sweet Spots for Screening Hits and Ev...  £1329.69  "
      ]
     },
     "execution_count": 2,
     "metadata": {},
     "output_type": "execute_result"
    }
   ],
   "source": [
    "df = pd.read_csv('Thinkful_data\\WELLCOME_APCspend2013_forThinkful.csv', encoding='unicode_escape')\n",
    "df.columns = ['PMID/PMCID', 'Publisher', 'Journal title', 'Article title','Cost']\n",
    "df.loc[0:10,:]"
   ]
  },
  {
   "cell_type": "markdown",
   "metadata": {},
   "source": [
    "Tasks to clean the data:\n",
    "    1. Standardize journal titles (i.e. J Med Chem and Journal of Medicinal Chemistry should be the same)\n",
    "    2. Convert prices to numbers"
   ]
  },
  {
   "cell_type": "markdown",
   "metadata": {
    "scrolled": true
   },
   "source": [
    "Steps to standardize journal titles- strip white space, \n",
    "        \n",
    "        1. strip white space\n",
    "        2. standardize casing\n",
    "        2. remove non-alphanumeric chars (i.e. P.N.A.S. = PNAS)\n",
    "        3. manually search for cases in remaining top 10 journals"
   ]
  },
  {
   "cell_type": "code",
   "execution_count": 3,
   "metadata": {},
   "outputs": [
    {
     "name": "stdout",
     "output_type": "stream",
     "text": [
      "951\n",
      "894\n",
      "886\n"
     ]
    }
   ],
   "source": [
    "#Strip reduced total Journal titles from 984 to 951, removing 33\n",
    "#Lower casing reduced total from 951 to 894, removing 57 redundancies\n",
    "#Removing nonalphanumeric chars reduced total from 894 to 886, removing 8 redundancies\n",
    "\n",
    "\n",
    "df.loc[:,'Journal title'] = df.loc[:,'Journal title'].str.strip()\n",
    "print(len(df.groupby('Journal title')['Journal title'].count()))\n",
    "\n",
    "df.loc[:,'Journal title'] = df.loc[:,'Journal title'].str.lower()\n",
    "print(len(df.groupby('Journal title')['Journal title'].count()))\n",
    "\n",
    "for i in range(len(df.loc[:,'Journal title'])):\n",
    "    df.loc[i,'Journal title'] = re.sub('[^a-zA-Z0-9]', '',str(df.loc[i,'Journal title']))\n",
    "    \n",
    "print(len(df.groupby('Journal title')['Journal title'].count()))"
   ]
  },
  {
   "cell_type": "code",
   "execution_count": 4,
   "metadata": {
    "scrolled": true
   },
   "outputs": [
    {
     "data": {
      "text/plain": [
       "Journal title\n",
       "plosone                                      200\n",
       "journalofbiologicalchemistry                  53\n",
       "neuroimage                                    29\n",
       "nucleicacidsresearch                          26\n",
       "plospathogens                                 24\n",
       "plosgenetics                                  24\n",
       "proceedingsofthenationalacademyofsciences     22\n",
       "plosneglectedtropicaldiseases                 20\n",
       "humanmoleculargenetics                        19\n",
       "naturecommunications                          19\n",
       "Name: Journal title, dtype: int64"
      ]
     },
     "execution_count": 4,
     "metadata": {},
     "output_type": "execute_result"
    }
   ],
   "source": [
    "#Now manually search for redundant entries in top 10 journals\n",
    "#To find potentially missing entries, I sorted the csv doc in excel to manually scrub before coding into Python\n",
    "\n",
    "sorted = df.groupby('Journal title')['Journal title'].count().sort_values(ascending=False)\n",
    "sorted[0:10]"
   ]
  },
  {
   "cell_type": "code",
   "execution_count": 5,
   "metadata": {},
   "outputs": [
    {
     "data": {
      "text/plain": [
       "207"
      ]
     },
     "execution_count": 5,
     "metadata": {},
     "output_type": "execute_result"
    }
   ],
   "source": [
    "#manual search for uncaptured Plos One entries (added 7 entries)\n",
    "#Plos 1 would not have been captured above, added 7 entries\n",
    "\n",
    "df.loc[df.loc[:,'Journal title'] == 'plos1','Journal title'] = 'plosone'\n",
    "len(df.loc[df.loc[:,'Journal title'] == 'plosone','Journal title'])"
   ]
  },
  {
   "cell_type": "code",
   "execution_count": 6,
   "metadata": {},
   "outputs": [
    {
     "data": {
      "text/plain": [
       "65"
      ]
     },
     "execution_count": 6,
     "metadata": {},
     "output_type": "execute_result"
    }
   ],
   "source": [
    "#manual search for uncaptured Journal of Biological Chemistry (added 12 entries)\n",
    "\n",
    "df.loc[df.loc[:,'Journal title'] == 'biologicalchemistry','Journal title'] = 'journalofbiologicalchemistry'\n",
    "df.loc[df.loc[:,'Journal title'] == 'biologicialchemistry','Journal title'] = 'journalofbiologicalchemistry'\n",
    "df.loc[df.loc[:,'Journal title'] == 'jbiolchem','Journal title'] = 'journalofbiologicalchemistry'\n",
    "df.loc[df.loc[:,'Journal title'] == 'jnlbiologicalchemistry','Journal title'] = 'journalofbiologicalchemistry'\n",
    "df.loc[df.loc[:,'Journal title'] == 'journalbiologicalchemistry','Journal title'] = 'journalofbiologicalchemistry'\n",
    "df.loc[df.loc[:,'Journal title'] == 'journalofbiolchem','Journal title'] = 'journalofbiologicalchemistry'\n",
    "len(df.loc[df.loc[:,'Journal title'] == 'journalofbiologicalchemistry','Journal title'])"
   ]
  },
  {
   "cell_type": "code",
   "execution_count": 7,
   "metadata": {},
   "outputs": [],
   "source": [
    "#no missing entries found in manual search for Neuroimage"
   ]
  },
  {
   "cell_type": "code",
   "execution_count": 8,
   "metadata": {},
   "outputs": [],
   "source": [
    "#no missing entries found in manual search for Nucleic Acids Research"
   ]
  },
  {
   "cell_type": "code",
   "execution_count": 9,
   "metadata": {},
   "outputs": [],
   "source": [
    "#no missing entries found in manual search for Plos Pathogens"
   ]
  },
  {
   "cell_type": "code",
   "execution_count": 10,
   "metadata": {},
   "outputs": [],
   "source": [
    "#no missing entries found in manual search for Plos Genetics"
   ]
  },
  {
   "cell_type": "code",
   "execution_count": 11,
   "metadata": {},
   "outputs": [
    {
     "data": {
      "text/plain": [
       "36"
      ]
     },
     "execution_count": 11,
     "metadata": {},
     "output_type": "execute_result"
    }
   ],
   "source": [
    "#manual search for uncaptured Proceedings of the National Academy of Sciences (added 14 entries)\n",
    "\n",
    "df.loc[df.loc[:,'Journal title'] == 'pnas','Journal title'] = 'proceedingsofthenationalacademyofsciences'\n",
    "df.loc[df.loc[:,'Journal title'] == 'pnasproceedingsofthenationalacademyofsciencesoftheunitedstatesofamerica','Journal title'] = 'proceedingsofthenationalacademyofsciences'\n",
    "df.loc[df.loc[:,'Journal title'] == 'pnasusa','Journal title'] = 'proceedingsofthenationalacademyofsciences'\n",
    "df.loc[df.loc[:,'Journal title'] == 'proceddingsofthenationalacademyofsciencesofusa', 'Journal title'] = 'proceedingsofthenationalacademyofsciences'\n",
    "df.loc[df.loc[:,'Journal title'] == 'proceedingsofthenationalacademyofsciencesoftheunitedstatesofamerica','Journal title'] = 'proceedingsofthenationalacademyofsciences'\n",
    "df.loc[df.loc[:,'Journal title'] == 'proceedingsofthenationalacademyofsciencespnas', 'Journal title'] = 'proceedingsofthenationalacademyofsciences'\n",
    "df.loc[df.loc[:,'Journal title'] == 'proceedingsofthenationalacademyofsciencesoftheusa', 'Journal title'] = 'proceedingsofthenationalacademyofsciences'\n",
    "len(df.loc[df.loc[:,'Journal title'] == 'proceedingsofthenationalacademyofsciences', 'Journal title'])"
   ]
  },
  {
   "cell_type": "code",
   "execution_count": 12,
   "metadata": {},
   "outputs": [
    {
     "data": {
      "text/plain": [
       "22"
      ]
     },
     "execution_count": 12,
     "metadata": {},
     "output_type": "execute_result"
    }
   ],
   "source": [
    "#manual search for uncaptured Plos Negltected Tropical Diseases (Added 2 entries)\n",
    "\n",
    "df.loc[df.loc[:,'Journal title'] == 'plosntd', 'Journal title'] = 'plosneglectedtropicaldiseases'\n",
    "df.loc[df.loc[:,'Journal title'] == 'plosnegectedtropicaldiseases', 'Journal title'] = 'plosneglectedtropicaldiseases'\n",
    "len(df.loc[df.loc[:,'Journal title']=='plosneglectedtropicaldiseases', 'Journal title'])"
   ]
  },
  {
   "cell_type": "code",
   "execution_count": 13,
   "metadata": {},
   "outputs": [
    {
     "data": {
      "text/plain": [
       "21"
      ]
     },
     "execution_count": 13,
     "metadata": {},
     "output_type": "execute_result"
    }
   ],
   "source": [
    "#manual search for uncaptured Human Molecular Genetics, 2 entries were listed as online journals\n",
    "#I decided to join these to the main journal as the prices were similar\n",
    "\n",
    "df.loc[df.loc[:,'Journal title'] == 'humanmolgeneticsonline', 'Journal title'] = 'humanmoleculargenetics'\n",
    "df.loc[df.loc[:,'Journal title'] == 'humanmoleculargeneticsonline', 'Journal title'] = 'humanmoleculargenetics'\n",
    "len(df.loc[df.loc[:,'Journal title'] == 'humanmoleculargenetics', 'Journal title'])"
   ]
  },
  {
   "cell_type": "code",
   "execution_count": 14,
   "metadata": {},
   "outputs": [],
   "source": [
    "#no missing entries found in manual search for Nature Communications entries"
   ]
  },
  {
   "cell_type": "markdown",
   "metadata": {},
   "source": [
    "# Top 5 most common journals and the number of entries for each"
   ]
  },
  {
   "cell_type": "code",
   "execution_count": 15,
   "metadata": {},
   "outputs": [
    {
     "data": {
      "text/plain": [
       "Journal title\n",
       "plosone                                      207\n",
       "journalofbiologicalchemistry                  65\n",
       "proceedingsofthenationalacademyofsciences     36\n",
       "neuroimage                                    29\n",
       "nucleicacidsresearch                          26\n",
       "Name: Journal title, dtype: int64"
      ]
     },
     "execution_count": 15,
     "metadata": {},
     "output_type": "execute_result"
    }
   ],
   "source": [
    "sorted = df.groupby('Journal title')['Journal title'].count().sort_values(ascending=False)\n",
    "sorted[0:5]"
   ]
  },
  {
   "cell_type": "markdown",
   "metadata": {},
   "source": [
    "Steps to clean cost data\n",
    "\n",
    "    1. Convert to float for numeric calculations\n",
    "    2. Remove anamolous values\n",
    "    3. Adjust outliers if needed"
   ]
  },
  {
   "cell_type": "code",
   "execution_count": 16,
   "metadata": {},
   "outputs": [],
   "source": [
    "#Convert cost data to float\n",
    "\n",
    "df.loc[:, 'Cost'] = df.loc[:, 'Cost'].apply(lambda x: ''.join(list(filter(str.isdigit, str(x)))))\n",
    "df.loc[:, 'Cost'] = df.loc[:, 'Cost'].apply(lambda x: float(x)*.01)"
   ]
  },
  {
   "cell_type": "code",
   "execution_count": 17,
   "metadata": {},
   "outputs": [],
   "source": [
    "#Some cost data has been entered with an abnormally high value, this appears to be an anomalous value\n",
    "#Removing these should be valid as the abnormal entry appears across numerous journals seemingly at random\n",
    "\n",
    "df.loc[df.loc[:,'Cost'] == 999999.00,:] = np.nan\n",
    "df = df.dropna(subset=['Journal title', 'Cost'])"
   ]
  },
  {
   "cell_type": "code",
   "execution_count": 18,
   "metadata": {
    "scrolled": true
   },
   "outputs": [
    {
     "data": {
      "image/png": "[encoded data removed]",
      "text/plain": [
       "<Figure size 432x288 with 1 Axes>"
      ]
     },
     "metadata": {
      "needs_background": "light"
     },
     "output_type": "display_data"
    }
   ],
   "source": [
    "plt.boxplot(df.loc[:,'Cost'].sort_values())\n",
    "plt.show()"
   ]
  },
  {
   "cell_type": "markdown",
   "metadata": {},
   "source": [
    "The outlier values seem unrealistically high, to preserve the data I will need to compare each outlier to the costs for that journal and adjust if it is an outlier for that specific journal."
   ]
  },
  {
   "cell_type": "code",
   "execution_count": 19,
   "metadata": {},
   "outputs": [
    {
     "name": "stdout",
     "output_type": "stream",
     "text": [
      "3866.9349999999995\n"
     ]
    },
    {
     "data": {
      "text/plain": [
       "48"
      ]
     },
     "execution_count": 19,
     "metadata": {},
     "output_type": "execute_result"
    }
   ],
   "source": [
    "#Create threshold function which finds outlier threshold given dataset > 4, else it returns 120% mean\n",
    "def threshold(data):\n",
    "    if len(data) > 4:\n",
    "        t = data.quantile(0.75) + 1.5*(data.quantile(0.75)-data.quantile(0.25))\n",
    "        return t\n",
    "    else:\n",
    "        return data.mean()*1.2\n",
    "\n",
    "#Find outlier threshold using Tukey's 1.5*IQR + Q3 formula for entire cost dataset\n",
    "total_threshold = threshold(df.loc[:,'Cost'])\n",
    "print(total_threshold)\n",
    "\n",
    "#Save the indices for entries which have outliers (note that 48 were identified)\n",
    "outlier_indices = df.loc[df.loc[:,'Cost']>total_threshold, :].index\n",
    "len(outlier_indices)"
   ]
  },
  {
   "cell_type": "code",
   "execution_count": 20,
   "metadata": {},
   "outputs": [
    {
     "name": "stdout",
     "output_type": "stream",
     "text": [
      "[444, 489, 490, 552, 648, 1470, 1987]\n"
     ]
    }
   ],
   "source": [
    "#Compare outliers to their specific journal costs to determine if they need to be adjusted, 7 were flagged\n",
    "flagged_outliers = []\n",
    "\n",
    "for outlier_index in outlier_indices:\n",
    "    if df.loc[outlier_index, 'Cost'] > threshold(df.loc[df.loc[:,'Journal title'] == df.loc[outlier_index,'Journal title'],'Cost']):\n",
    "            flagged_outliers.append(outlier_index)\n",
    "print(flagged_outliers)"
   ]
  },
  {
   "cell_type": "code",
   "execution_count": 21,
   "metadata": {},
   "outputs": [
    {
     "name": "stdout",
     "output_type": "stream",
     "text": [
      "444       3938.82\n",
      "489       3948.42\n",
      "490       4163.88\n",
      "552       4800.00\n",
      "648       4800.00\n",
      "1470    192645.00\n",
      "1987    201024.00\n",
      "Name: Cost, dtype: float64\n",
      "2684.5099999999998\n",
      "3171.7675\n",
      "3171.7675\n",
      "2625.421428571429\n",
      "2819.175\n",
      "1898.3490452261308\n",
      "15176.788\n"
     ]
    }
   ],
   "source": [
    "#Compare the costs of the flagged outliers to the means of their journals\n",
    "\n",
    "print(df.loc[flagged_outliers, 'Cost'])\n",
    "\n",
    "for i in range(len(flagged_outliers)):\n",
    "    print(df.loc[df.loc[:,'Journal title']==df.loc[flagged_outliers[i],'Journal title'], 'Cost'].mean())"
   ]
  },
  {
   "cell_type": "markdown",
   "metadata": {},
   "source": [
    "Indices 1470 and  1987 will be multiplied by .01 to fit back into their datasets, these are the only 2 values that seem unrealistically high and they appear to have been entered incorrectly"
   ]
  },
  {
   "cell_type": "code",
   "execution_count": 22,
   "metadata": {},
   "outputs": [],
   "source": [
    "df.loc[1470, 'Cost'] = df.loc[1470, 'Cost']*.01\n",
    "df.loc[1987, 'Cost'] = df.loc[1987, 'Cost']*.01"
   ]
  },
  {
   "cell_type": "markdown",
   "metadata": {},
   "source": [
    "# Next, calculate the mean, median, and standard deviation of the open-access cost per article for each journal"
   ]
  },
  {
   "cell_type": "code",
   "execution_count": 23,
   "metadata": {},
   "outputs": [
    {
     "data": {
      "text/plain": [
       "Journal title\n",
       "nan                                            13200.000000\n",
       "publicservicereview                             6000.000000\n",
       "thelancetneurology                              5040.000000\n",
       "thelancet                                       4558.003333\n",
       "cellhostmicrobe                                 4226.040000\n",
       "currbiol                                        4151.770000\n",
       "celljournal                                     4041.050000\n",
       "immunity                                        3934.750000\n",
       "molecularcell                                   3925.736667\n",
       "cellmetabolism                                  3924.260000\n",
       "cellpresscellreports                            3884.400000\n",
       "structure                                       3881.824286\n",
       "cellhostandmicrobe                              3838.880000\n",
       "antimicrobialagfentsandchemotherapy             3750.050000\n",
       "lancetglobalhealth                              3678.780000\n",
       "cellreports                                     3644.226667\n",
       "developmentcell                                 3630.640000\n",
       "journalodclinicalendocrinology                  3602.410000\n",
       "neglectedtropicaldisease                        3600.000000\n",
       "lancetinfectdis                                 3600.000000\n",
       "neuron                                          3565.644444\n",
       "cellstemcell                                    3534.065000\n",
       "currentbiology                                  3511.682727\n",
       "developmentalcell                               3292.271667\n",
       "leukemia                                        3240.000000\n",
       "healthpsychology                                3188.300000\n",
       "cerebralcortexprint                             3177.600000\n",
       "cell                                            3171.767500\n",
       "oncogene                                        3164.816667\n",
       "behavioralneuroscience                          3147.706667\n",
       "                                                   ...     \n",
       "molpharm                                         649.330000\n",
       "internationaljournalofrheumatology               626.000000\n",
       "frontiersinneurorobotics                         625.200000\n",
       "journalofparasitologyresearch                    623.950000\n",
       "autophagy                                        601.100000\n",
       "journalofhistoricalgeography                     596.460000\n",
       "health                                           551.270000\n",
       "theranostics                                     543.290000\n",
       "journalofvisualizedexperiements                  517.500000\n",
       "epigentics                                       508.660000\n",
       "epigenetics                                      490.485000\n",
       "rnabiology                                       490.123333\n",
       "bmcgenomics                                      488.280000\n",
       "neuroscientist                                   480.930000\n",
       "frontiersincognitivescience                      434.700000\n",
       "jinfectdis                                       378.780000\n",
       "haematologicathehaematologyjournal               378.700000\n",
       "frontiersingenetics                              346.250000\n",
       "physicsinbiologyandmedicine                      340.000000\n",
       "celladhesionandmigration                         321.460000\n",
       "essaysinbiochemistry                             270.000000\n",
       "internationaljournaloffinancialresearch          187.030000\n",
       "journalofneurologytranslationalneuroscience      159.910000\n",
       "channels                                         159.740000\n",
       "bmcgenetics                                      137.580000\n",
       "journalofbiomedicalgraphicsandcomputing          135.290000\n",
       "americansocietyfornutrition                       45.940000\n",
       "bmcgenomebiology                                  20.100000\n",
       "bmcbiology                                        16.740000\n",
       "veterinaryresearch                                 9.930000\n",
       "Name: Cost, Length: 857, dtype: float64"
      ]
     },
     "execution_count": 23,
     "metadata": {},
     "output_type": "execute_result"
    }
   ],
   "source": [
    "#mean\n",
    "means = df.groupby('Journal title')['Cost'].mean()\n",
    "means.sort_values(ascending=False)"
   ]
  },
  {
   "cell_type": "code",
   "execution_count": 24,
   "metadata": {},
   "outputs": [
    {
     "data": {
      "text/plain": [
       "Journal title\n",
       "nan                                            13200.000\n",
       "publicservicereview                             6000.000\n",
       "thelancetneurology                              5040.000\n",
       "thelancet                                       4554.010\n",
       "cellhostmicrobe                                 4226.040\n",
       "currbiol                                        4151.770\n",
       "celljournal                                     4041.050\n",
       "immunity                                        3934.750\n",
       "neuron                                          3918.420\n",
       "molecularcell                                   3906.430\n",
       "cellmetabolism                                  3904.460\n",
       "structure                                       3895.640\n",
       "cellpresscellreports                            3884.400\n",
       "developmentalcell                               3861.420\n",
       "currentbiology                                  3857.160\n",
       "cellhostandmicrobe                              3838.880\n",
       "cellreports                                     3836.320\n",
       "antimicrobialagfentsandchemotherapy             3750.050\n",
       "lancetglobalhealth                              3678.780\n",
       "naturecommunications                            3642.000\n",
       "developmentcell                                 3630.640\n",
       "journalodclinicalendocrinology                  3602.410\n",
       "neglectedtropicaldisease                        3600.000\n",
       "lancetinfectdis                                 3600.000\n",
       "cell                                            3578.555\n",
       "cellstemcell                                    3534.065\n",
       "oncogene                                        3360.000\n",
       "leukemia                                        3240.000\n",
       "behavioralneuroscience                          3209.630\n",
       "healthpsychology                                3188.300\n",
       "                                                 ...    \n",
       "molpharm                                         649.330\n",
       "internationaljournalofrheumatology               626.000\n",
       "frontiersinneurorobotics                         625.200\n",
       "journalofparasitologyresearch                    623.950\n",
       "autophagy                                        601.100\n",
       "journalofhistoricalgeography                     596.460\n",
       "health                                           551.270\n",
       "theranostics                                     543.290\n",
       "journalofvisualizedexperiements                  517.500\n",
       "epigentics                                       508.660\n",
       "rnabiology                                       494.960\n",
       "epigenetics                                      490.485\n",
       "neuroscientist                                   480.930\n",
       "frontiersincognitivescience                      434.700\n",
       "jinfectdis                                       378.780\n",
       "haematologicathehaematologyjournal               378.700\n",
       "bmcgenomics                                      366.990\n",
       "frontiersingenetics                              346.250\n",
       "physicsinbiologyandmedicine                      340.000\n",
       "celladhesionandmigration                         321.460\n",
       "essaysinbiochemistry                             270.000\n",
       "internationaljournaloffinancialresearch          187.030\n",
       "journalofneurologytranslationalneuroscience      159.910\n",
       "channels                                         159.740\n",
       "bmcgenetics                                      137.580\n",
       "journalofbiomedicalgraphicsandcomputing          135.290\n",
       "americansocietyfornutrition                       45.940\n",
       "bmcgenomebiology                                  20.100\n",
       "bmcbiology                                        16.740\n",
       "veterinaryresearch                                 9.930\n",
       "Name: Cost, Length: 857, dtype: float64"
      ]
     },
     "execution_count": 24,
     "metadata": {},
     "output_type": "execute_result"
    }
   ],
   "source": [
    "#median\n",
    "medians = df.groupby('Journal title')['Cost'].median()\n",
    "medians.sort_values(ascending=False)"
   ]
  },
  {
   "cell_type": "code",
   "execution_count": 25,
   "metadata": {},
   "outputs": [
    {
     "data": {
      "text/plain": [
       "Journal title\n",
       "lancet                                                       2801.309580\n",
       "gastroenterology                                             1407.085926\n",
       "publichealth                                                 1369.828470\n",
       "endeavour                                                    1275.613562\n",
       "cell                                                         1271.396468\n",
       "developmentalcell                                            1253.021067\n",
       "neuron                                                       1116.765911\n",
       "theembojournal                                               1103.086579\n",
       "currentbiology                                               1077.043187\n",
       "thelancetneurology                                           1018.233765\n",
       "neuropharmacology                                             995.620219\n",
       "elsevier                                                      964.947531\n",
       "bmj                                                           891.072388\n",
       "glycobiology                                                  890.487854\n",
       "psychologicalmedicine                                         889.261941\n",
       "naturecommunications                                          868.940927\n",
       "theamericanjournalofhumangenetics                             868.682815\n",
       "journalofmedicalvirology                                      864.211766\n",
       "journalofmolecularendocrinology                               848.528137\n",
       "analyticalchemistry                                           838.678951\n",
       "jimmunol                                                      816.227500\n",
       "plosbiology                                                   768.250305\n",
       "journaloftheroyalsocietyofmedicineshortreports                763.675324\n",
       "journalofproteomeresearch                                     739.683191\n",
       "brainandlanguage                                              737.109322\n",
       "internationaljournalofcardiology                              731.621122\n",
       "plosmedicine                                                  728.612037\n",
       "consciousnessandcognition                                     714.453621\n",
       "americanjournalofhumangenetics                                703.501205\n",
       "nationalacademyofsciences                                     701.047645\n",
       "                                                                ...     \n",
       "thejournalofneurophysiology                                          NaN\n",
       "thejournalofpathology                                                NaN\n",
       "thejournalofphysiology                                               NaN\n",
       "thejournalofsteroidbiochemistrymolecularbiology                      NaN\n",
       "thejournalofvisualizedexperiments                                    NaN\n",
       "theranostics                                                         NaN\n",
       "thevetjournal                                                        NaN\n",
       "thoraxaninternationaljournalforrespiratorymedicine                   NaN\n",
       "ticksandtickbornediseases                                            NaN\n",
       "tissueengineeringparta                                               NaN\n",
       "transactionsoftheroyalsocietyoftropicalmedicineandhygiene            NaN\n",
       "trendsincognitivescience                                             NaN\n",
       "trendsinmicrobiology                                                 NaN\n",
       "trendsinmolecularmedicine                                            NaN\n",
       "trendsinneuroscience                                                 NaN\n",
       "trendsinneurosciences                                                NaN\n",
       "tropicalanimalhealthproduction                                       NaN\n",
       "tropmedinthealth                                                     NaN\n",
       "urbanhistory                                                         NaN\n",
       "urolithiasis                                                         NaN\n",
       "vascularpharmacology                                                 NaN\n",
       "veterinarymicrobiology                                               NaN\n",
       "veterinaryparasitology                                               NaN\n",
       "veterinaryrecord                                                     NaN\n",
       "veterinaryresearch                                                   NaN\n",
       "virologyjournal                                                      NaN\n",
       "virusresearch                                                        NaN\n",
       "visionresearch                                                       NaN\n",
       "visualneuroscience                                                   NaN\n",
       "zoonosesandpublichealth                                              NaN\n",
       "Name: Cost, Length: 857, dtype: float64"
      ]
     },
     "execution_count": 25,
     "metadata": {},
     "output_type": "execute_result"
    }
   ],
   "source": [
    "#Standard deviation\n",
    "std = df.groupby('Journal title')['Cost'].std()\n",
    "std.sort_values(ascending=False)"
   ]
  },
  {
   "cell_type": "code",
   "execution_count": null,
   "metadata": {},
   "outputs": [],
   "source": []
  }
 ],
 "metadata": {
  "kernelspec": {
   "display_name": "Python 3",
   "language": "python",
   "name": "python3"
  },
  "language_info": {
   "codemirror_mode": {
    "name": "ipython",
    "version": 3
   },
   "file_extension": ".py",
   "mimetype": "text/x-python",
   "name": "python",
   "nbconvert_exporter": "python",
   "pygments_lexer": "ipython3",
   "version": "3.7.3"
  }
 },
 "nbformat": 4,
 "nbformat_minor": 2
}
