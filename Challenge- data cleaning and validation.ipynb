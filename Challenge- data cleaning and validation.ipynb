{
 "cells": [
  {
   "cell_type": "markdown",
   "metadata": {},
   "source": [
    "To complete this challenge, determine the five most common journals and the total articles for each. Next, calculate the mean, median, and standard deviation of the open-access cost per article for each journal."
   ]
  },
  {
   "cell_type": "code",
   "execution_count": 1,
   "metadata": {},
   "outputs": [],
   "source": [
    "import numpy as np\n",
    "import pandas as pd\n",
    "import re\n",
    "import matplotlib.pyplot as plt\n",
    "import seaborn as sns\n",
    "%matplotlib inline"
   ]
  },
  {
   "cell_type": "code",
   "execution_count": 2,
   "metadata": {},
   "outputs": [
    {
     "data": {
      "text/html": [
       "<div>\n",
       "<style scoped>\n",
       "    .dataframe tbody tr th:only-of-type {\n",
       "        vertical-align: middle;\n",
       "    }\n",
       "\n",
       "    .dataframe tbody tr th {\n",
       "        vertical-align: top;\n",
       "    }\n",
       "\n",
       "    .dataframe thead th {\n",
       "        text-align: right;\n",
       "    }\n",
       "</style>\n",
       "<table border=\"1\" class=\"dataframe\">\n",
       "  <thead>\n",
       "    <tr style=\"text-align: right;\">\n",
       "      <th></th>\n",
       "      <th>PMID/PMCID</th>\n",
       "      <th>Publisher</th>\n",
       "      <th>Journal title</th>\n",
       "      <th>Article title</th>\n",
       "      <th>Cost</th>\n",
       "    </tr>\n",
       "  </thead>\n",
       "  <tbody>\n",
       "    <tr>\n",
       "      <th>0</th>\n",
       "      <td>NaN</td>\n",
       "      <td>CUP</td>\n",
       "      <td>Psychological Medicine</td>\n",
       "      <td>Reduced parahippocampal cortical thickness in ...</td>\n",
       "      <td>£0.00</td>\n",
       "    </tr>\n",
       "    <tr>\n",
       "      <th>1</th>\n",
       "      <td>PMC3679557</td>\n",
       "      <td>ACS</td>\n",
       "      <td>Biomacromolecules</td>\n",
       "      <td>Structural characterization of a Model Gram-ne...</td>\n",
       "      <td>£2381.04</td>\n",
       "    </tr>\n",
       "    <tr>\n",
       "      <th>2</th>\n",
       "      <td>23043264  PMC3506128</td>\n",
       "      <td>ACS</td>\n",
       "      <td>J Med Chem</td>\n",
       "      <td>Fumaroylamino-4,5-epoxymorphinans and related ...</td>\n",
       "      <td>£642.56</td>\n",
       "    </tr>\n",
       "    <tr>\n",
       "      <th>3</th>\n",
       "      <td>23438330 PMC3646402</td>\n",
       "      <td>ACS</td>\n",
       "      <td>J Med Chem</td>\n",
       "      <td>Orvinols with mixed kappa/mu opioid receptor a...</td>\n",
       "      <td>£669.64</td>\n",
       "    </tr>\n",
       "    <tr>\n",
       "      <th>4</th>\n",
       "      <td>23438216 PMC3601604</td>\n",
       "      <td>ACS</td>\n",
       "      <td>J Org Chem</td>\n",
       "      <td>Regioselective opening of myo-inositol orthoes...</td>\n",
       "      <td>£685.88</td>\n",
       "    </tr>\n",
       "    <tr>\n",
       "      <th>5</th>\n",
       "      <td>PMC3579457</td>\n",
       "      <td>ACS</td>\n",
       "      <td>Journal of Medicinal Chemistry</td>\n",
       "      <td>Comparative Structural and Functional Studies ...</td>\n",
       "      <td>£2392.20</td>\n",
       "    </tr>\n",
       "    <tr>\n",
       "      <th>6</th>\n",
       "      <td>PMC3709265</td>\n",
       "      <td>ACS</td>\n",
       "      <td>Journal of Proteome Research</td>\n",
       "      <td>Mapping Proteolytic Processing in the Secretom...</td>\n",
       "      <td>£2367.95</td>\n",
       "    </tr>\n",
       "    <tr>\n",
       "      <th>7</th>\n",
       "      <td>23057412 PMC3495574</td>\n",
       "      <td>ACS</td>\n",
       "      <td>Mol Pharm</td>\n",
       "      <td>Quantitative silencing of EGFP reporter gene b...</td>\n",
       "      <td>£649.33</td>\n",
       "    </tr>\n",
       "    <tr>\n",
       "      <th>8</th>\n",
       "      <td>PMCID: PMC3780468</td>\n",
       "      <td>ACS (Amercian Chemical Society) Publications</td>\n",
       "      <td>ACS Chemical Biology</td>\n",
       "      <td>A Novel Allosteric Inhibitor of the Uridine Di...</td>\n",
       "      <td>£1294.59</td>\n",
       "    </tr>\n",
       "    <tr>\n",
       "      <th>9</th>\n",
       "      <td>PMCID: PMC3621575</td>\n",
       "      <td>ACS (Amercian Chemical Society) Publications</td>\n",
       "      <td>ACS Chemical Biology</td>\n",
       "      <td>Chemical proteomic analysis reveals the drugab...</td>\n",
       "      <td>£1294.78</td>\n",
       "    </tr>\n",
       "    <tr>\n",
       "      <th>10</th>\n",
       "      <td>PMCID: PMC3739413</td>\n",
       "      <td>ACS (Amercian Chemical Society) Publications</td>\n",
       "      <td>Journal of Chemical Information and Modeling</td>\n",
       "      <td>Locating Sweet Spots for Screening Hits and Ev...</td>\n",
       "      <td>£1329.69</td>\n",
       "    </tr>\n",
       "  </tbody>\n",
       "</table>\n",
       "</div>"
      ],
      "text/plain": [
       "               PMID/PMCID                                     Publisher  \\\n",
       "0                     NaN                                           CUP   \n",
       "1              PMC3679557                                           ACS   \n",
       "2   23043264  PMC3506128                                            ACS   \n",
       "3     23438330 PMC3646402                                           ACS   \n",
       "4    23438216 PMC3601604                                            ACS   \n",
       "5              PMC3579457                                           ACS   \n",
       "6              PMC3709265                                           ACS   \n",
       "7    23057412 PMC3495574                                            ACS   \n",
       "8       PMCID: PMC3780468  ACS (Amercian Chemical Society) Publications   \n",
       "9       PMCID: PMC3621575  ACS (Amercian Chemical Society) Publications   \n",
       "10      PMCID: PMC3739413  ACS (Amercian Chemical Society) Publications   \n",
       "\n",
       "                                   Journal title  \\\n",
       "0                         Psychological Medicine   \n",
       "1                              Biomacromolecules   \n",
       "2                                     J Med Chem   \n",
       "3                                     J Med Chem   \n",
       "4                                     J Org Chem   \n",
       "5                 Journal of Medicinal Chemistry   \n",
       "6                   Journal of Proteome Research   \n",
       "7                                      Mol Pharm   \n",
       "8                           ACS Chemical Biology   \n",
       "9                           ACS Chemical Biology   \n",
       "10  Journal of Chemical Information and Modeling   \n",
       "\n",
       "                                        Article title      Cost  \n",
       "0   Reduced parahippocampal cortical thickness in ...     £0.00  \n",
       "1   Structural characterization of a Model Gram-ne...  £2381.04  \n",
       "2   Fumaroylamino-4,5-epoxymorphinans and related ...   £642.56  \n",
       "3   Orvinols with mixed kappa/mu opioid receptor a...   £669.64  \n",
       "4   Regioselective opening of myo-inositol orthoes...   £685.88  \n",
       "5   Comparative Structural and Functional Studies ...  £2392.20  \n",
       "6   Mapping Proteolytic Processing in the Secretom...  £2367.95  \n",
       "7   Quantitative silencing of EGFP reporter gene b...   £649.33  \n",
       "8   A Novel Allosteric Inhibitor of the Uridine Di...  £1294.59  \n",
       "9   Chemical proteomic analysis reveals the drugab...  £1294.78  \n",
       "10  Locating Sweet Spots for Screening Hits and Ev...  £1329.69  "
      ]
     },
     "execution_count": 2,
     "metadata": {},
     "output_type": "execute_result"
    }
   ],
   "source": [
    "df = pd.read_csv('Thinkful_data\\WELLCOME_APCspend2013_forThinkful.csv', encoding='unicode_escape')\n",
    "df.columns = ['PMID/PMCID', 'Publisher', 'Journal title', 'Article title','Cost']\n",
    "df.loc[0:10,:]"
   ]
  },
  {
   "cell_type": "markdown",
   "metadata": {},
   "source": [
    "Tasks to clean the data:\n",
    "    1. Standardize journal titles (i.e. J Med Chem and Journal of Medicinal Chemistry should be the same)\n",
    "    2. Convert prices to numbers"
   ]
  },
  {
   "cell_type": "markdown",
   "metadata": {
    "scrolled": true
   },
   "source": [
    "Steps to standardize journal titles- strip white space, \n",
    "        \n",
    "        1. strip white space\n",
    "        2. standardize casing\n",
    "        2. remove non-alphanumeric chars (i.e. P.N.A.S. = PNAS)\n",
    "        3. manually search for cases in remaining top 10 journals"
   ]
  },
  {
   "cell_type": "code",
   "execution_count": 3,
   "metadata": {},
   "outputs": [
    {
     "name": "stdout",
     "output_type": "stream",
     "text": [
      "951\n",
      "894\n",
      "886\n"
     ]
    }
   ],
   "source": [
    "#Strip reduced total Journal titles from 984 to 951, removing 33\n",
    "#Lower casing reduced total from 951 to 894, removing 57 redundancies\n",
    "#Removing nonalphanumeric chars reduced total from 894 to 886, removing 8 redundancies\n",
    "\n",
    "\n",
    "df.loc[:,'Journal title'] = df.loc[:,'Journal title'].str.strip()\n",
    "print(len(df.groupby('Journal title')['Journal title'].count()))\n",
    "\n",
    "df.loc[:,'Journal title'] = df.loc[:,'Journal title'].str.lower()\n",
    "print(len(df.groupby('Journal title')['Journal title'].count()))\n",
    "\n",
    "for i in range(len(df.loc[:,'Journal title'])):\n",
    "    df.loc[i,'Journal title'] = re.sub('[^a-zA-Z0-9]', '',str(df.loc[i,'Journal title']))\n",
    "    \n",
    "print(len(df.groupby('Journal title')['Journal title'].count()))"
   ]
  },
  {
   "cell_type": "code",
   "execution_count": 4,
   "metadata": {
    "scrolled": true
   },
   "outputs": [
    {
     "data": {
      "text/plain": [
       "Journal title\n",
       "plosone                                      200\n",
       "journalofbiologicalchemistry                  53\n",
       "neuroimage                                    29\n",
       "nucleicacidsresearch                          26\n",
       "plospathogens                                 24\n",
       "plosgenetics                                  24\n",
       "proceedingsofthenationalacademyofsciences     22\n",
       "plosneglectedtropicaldiseases                 20\n",
       "humanmoleculargenetics                        19\n",
       "naturecommunications                          19\n",
       "Name: Journal title, dtype: int64"
      ]
     },
     "execution_count": 4,
     "metadata": {},
     "output_type": "execute_result"
    }
   ],
   "source": [
    "#Now manually search for redundant entries in top 10 journals\n",
    "#To find potentially missing entries, I sorted the csv doc in excel to manually scrub before coding into Python\n",
    "\n",
    "sorted = df.groupby('Journal title')['Journal title'].count().sort_values(ascending=False)\n",
    "sorted[0:10]"
   ]
  },
  {
   "cell_type": "code",
   "execution_count": 5,
   "metadata": {},
   "outputs": [
    {
     "data": {
      "text/plain": [
       "207"
      ]
     },
     "execution_count": 5,
     "metadata": {},
     "output_type": "execute_result"
    }
   ],
   "source": [
    "#manual search for uncaptured Plos One entries (added 7 entries)\n",
    "#Plos 1 would not have been captured above, added 7 entries\n",
    "\n",
    "df.loc[df.loc[:,'Journal title'] == 'plos1','Journal title'] = 'plosone'\n",
    "len(df.loc[df.loc[:,'Journal title'] == 'plosone','Journal title'])"
   ]
  },
  {
   "cell_type": "code",
   "execution_count": 6,
   "metadata": {},
   "outputs": [
    {
     "data": {
      "text/plain": [
       "65"
      ]
     },
     "execution_count": 6,
     "metadata": {},
     "output_type": "execute_result"
    }
   ],
   "source": [
    "#manual search for uncaptured Journal of Biological Chemistry (added 12 entries)\n",
    "\n",
    "df.loc[df.loc[:,'Journal title'] == 'biologicalchemistry','Journal title'] = 'journalofbiologicalchemistry'\n",
    "df.loc[df.loc[:,'Journal title'] == 'biologicialchemistry','Journal title'] = 'journalofbiologicalchemistry'\n",
    "df.loc[df.loc[:,'Journal title'] == 'jbiolchem','Journal title'] = 'journalofbiologicalchemistry'\n",
    "df.loc[df.loc[:,'Journal title'] == 'jnlbiologicalchemistry','Journal title'] = 'journalofbiologicalchemistry'\n",
    "df.loc[df.loc[:,'Journal title'] == 'journalbiologicalchemistry','Journal title'] = 'journalofbiologicalchemistry'\n",
    "df.loc[df.loc[:,'Journal title'] == 'journalofbiolchem','Journal title'] = 'journalofbiologicalchemistry'\n",
    "len(df.loc[df.loc[:,'Journal title'] == 'journalofbiologicalchemistry','Journal title'])"
   ]
  },
  {
   "cell_type": "code",
   "execution_count": 7,
   "metadata": {},
   "outputs": [],
   "source": [
    "#no missing entries found in manual search for Neuroimage"
   ]
  },
  {
   "cell_type": "code",
   "execution_count": 8,
   "metadata": {},
   "outputs": [],
   "source": [
    "#no missing entries found in manual search for Nucleic Acids Research"
   ]
  },
  {
   "cell_type": "code",
   "execution_count": 9,
   "metadata": {},
   "outputs": [],
   "source": [
    "#no missing entries found in manual search for Plos Pathogens"
   ]
  },
  {
   "cell_type": "code",
   "execution_count": 10,
   "metadata": {},
   "outputs": [],
   "source": [
    "#no missing entries found in manual search for Plos Genetics"
   ]
  },
  {
   "cell_type": "code",
   "execution_count": 11,
   "metadata": {},
   "outputs": [
    {
     "data": {
      "text/plain": [
       "36"
      ]
     },
     "execution_count": 11,
     "metadata": {},
     "output_type": "execute_result"
    }
   ],
   "source": [
    "#manual search for uncaptured Proceedings of the National Academy of Sciences (added 14 entries)\n",
    "\n",
    "df.loc[df.loc[:,'Journal title'] == 'pnas','Journal title'] = 'proceedingsofthenationalacademyofsciences'\n",
    "df.loc[df.loc[:,'Journal title'] == 'pnasproceedingsofthenationalacademyofsciencesoftheunitedstatesofamerica','Journal title'] = 'proceedingsofthenationalacademyofsciences'\n",
    "df.loc[df.loc[:,'Journal title'] == 'pnasusa','Journal title'] = 'proceedingsofthenationalacademyofsciences'\n",
    "df.loc[df.loc[:,'Journal title'] == 'proceddingsofthenationalacademyofsciencesofusa', 'Journal title'] = 'proceedingsofthenationalacademyofsciences'\n",
    "df.loc[df.loc[:,'Journal title'] == 'proceedingsofthenationalacademyofsciencesoftheunitedstatesofamerica','Journal title'] = 'proceedingsofthenationalacademyofsciences'\n",
    "df.loc[df.loc[:,'Journal title'] == 'proceedingsofthenationalacademyofsciencespnas', 'Journal title'] = 'proceedingsofthenationalacademyofsciences'\n",
    "df.loc[df.loc[:,'Journal title'] == 'proceedingsofthenationalacademyofsciencesoftheusa', 'Journal title'] = 'proceedingsofthenationalacademyofsciences'\n",
    "len(df.loc[df.loc[:,'Journal title'] == 'proceedingsofthenationalacademyofsciences', 'Journal title'])"
   ]
  },
  {
   "cell_type": "code",
   "execution_count": 12,
   "metadata": {},
   "outputs": [
    {
     "data": {
      "text/plain": [
       "22"
      ]
     },
     "execution_count": 12,
     "metadata": {},
     "output_type": "execute_result"
    }
   ],
   "source": [
    "#manual search for uncaptured Plos Negltected Tropical Diseases (Added 2 entries)\n",
    "\n",
    "df.loc[df.loc[:,'Journal title'] == 'plosntd', 'Journal title'] = 'plosneglectedtropicaldiseases'\n",
    "df.loc[df.loc[:,'Journal title'] == 'plosnegectedtropicaldiseases', 'Journal title'] = 'plosneglectedtropicaldiseases'\n",
    "len(df.loc[df.loc[:,'Journal title']=='plosneglectedtropicaldiseases', 'Journal title'])"
   ]
  },
  {
   "cell_type": "code",
   "execution_count": 13,
   "metadata": {},
   "outputs": [
    {
     "data": {
      "text/plain": [
       "21"
      ]
     },
     "execution_count": 13,
     "metadata": {},
     "output_type": "execute_result"
    }
   ],
   "source": [
    "#manual search for uncaptured Human Molecular Genetics, 2 entries were listed as online journals\n",
    "#I decided to join these to the main journal as the prices were similar\n",
    "\n",
    "df.loc[df.loc[:,'Journal title'] == 'humanmolgeneticsonline', 'Journal title'] = 'humanmoleculargenetics'\n",
    "df.loc[df.loc[:,'Journal title'] == 'humanmoleculargeneticsonline', 'Journal title'] = 'humanmoleculargenetics'\n",
    "len(df.loc[df.loc[:,'Journal title'] == 'humanmoleculargenetics', 'Journal title'])"
   ]
  },
  {
   "cell_type": "code",
   "execution_count": 14,
   "metadata": {},
   "outputs": [],
   "source": [
    "#no missing entries found in manual search for Nature Communications entries"
   ]
  },
  {
   "cell_type": "markdown",
   "metadata": {},
   "source": [
    "# Top 5 most common journals and the number of entries for each"
   ]
  },
  {
   "cell_type": "code",
   "execution_count": 15,
   "metadata": {},
   "outputs": [
    {
     "data": {
      "text/plain": [
       "Journal title\n",
       "plosone                                      207\n",
       "journalofbiologicalchemistry                  65\n",
       "proceedingsofthenationalacademyofsciences     36\n",
       "neuroimage                                    29\n",
       "nucleicacidsresearch                          26\n",
       "Name: Journal title, dtype: int64"
      ]
     },
     "execution_count": 15,
     "metadata": {},
     "output_type": "execute_result"
    }
   ],
   "source": [
    "sorted = df.groupby('Journal title')['Journal title'].count().sort_values(ascending=False)\n",
    "sorted[0:5]"
   ]
  },
  {
   "cell_type": "markdown",
   "metadata": {},
   "source": [
    "Steps to clean cost data\n",
    "\n",
    "    1. Convert to float for numeric calculations\n",
    "    2. Remove anamolous values\n",
    "    3. Adjust outliers if needed"
   ]
  },
  {
   "cell_type": "code",
   "execution_count": 16,
   "metadata": {},
   "outputs": [],
   "source": [
    "#Convert cost data to float\n",
    "\n",
    "df.loc[:, 'Cost'] = df.loc[:, 'Cost'].apply(lambda x: ''.join(list(filter(str.isdigit, str(x)))))\n",
    "df.loc[:, 'Cost'] = df.loc[:, 'Cost'].apply(lambda x: float(x)*.01)"
   ]
  },
  {
   "cell_type": "code",
   "execution_count": 17,
   "metadata": {},
   "outputs": [],
   "source": [
    "#Some cost data has been entered with an abnormally high value, this appears to be an anomalous value\n",
    "#Removing these should be valid as the abnormal entry appears across numerous journals seemingly at random\n",
    "\n",
    "df.loc[df.loc[:,'Cost'] == 999999.00,:] = np.nan\n",
    "df = df.dropna(subset=['Journal title', 'Cost'])\n",
    "\n",
    "#Create new indices due to nan removal\n",
    "df.index = range(len(df.index))"
   ]
  },
  {
   "cell_type": "code",
   "execution_count": 18,
   "metadata": {
    "scrolled": true
   },
   "outputs": [
    {
     "data": {
      "image/png": "[encoded data removed]",
      "text/plain": [
       "<Figure size 432x288 with 1 Axes>"
      ]
     },
     "metadata": {
      "needs_background": "light"
     },
     "output_type": "display_data"
    }
   ],
   "source": [
    "plt.boxplot(df.loc[:,'Cost'].sort_values())\n",
    "plt.show()"
   ]
  },
  {
   "cell_type": "markdown",
   "metadata": {},
   "source": [
    "The outlier values seem unrealistically high, to preserve the data I will need to compare each outlier to the costs for that journal and adjust if it is an outlier for that specific journal."
   ]
  },
  {
   "cell_type": "code",
   "execution_count": 19,
   "metadata": {},
   "outputs": [
    {
     "name": "stdout",
     "output_type": "stream",
     "text": [
      "3866.9349999999995\n"
     ]
    },
    {
     "data": {
      "text/plain": [
       "48"
      ]
     },
     "execution_count": 19,
     "metadata": {},
     "output_type": "execute_result"
    }
   ],
   "source": [
    "#Create threshold function which finds outlier threshold given dataset > 4, else it returns 120% mean\n",
    "def threshold(data):\n",
    "    if len(data) > 4:\n",
    "        t = data.quantile(0.75) + 1.5*(data.quantile(0.75)-data.quantile(0.25))\n",
    "        return t\n",
    "    else:\n",
    "        return data.mean()*1.2\n",
    "\n",
    "#Find outlier threshold using Tukey's 1.5*IQR + Q3 formula for entire cost dataset\n",
    "total_threshold = threshold(df.loc[:,'Cost'])\n",
    "print(total_threshold)\n",
    "\n",
    "#Save the indices for entries which have outliers (note that 48 were identified)\n",
    "outlier_indices = df.loc[df.loc[:,'Cost']>total_threshold, :].index\n",
    "len(outlier_indices)"
   ]
  },
  {
   "cell_type": "code",
   "execution_count": 20,
   "metadata": {},
   "outputs": [
    {
     "name": "stdout",
     "output_type": "stream",
     "text": [
      "[438, 483, 484, 545, 639, 1441, 1940]\n"
     ]
    }
   ],
   "source": [
    "#Compare outliers to their specific journal costs to determine if they need to be adjusted, 7 were flagged\n",
    "flagged_outliers = []\n",
    "\n",
    "for outlier_index in outlier_indices:\n",
    "    if df.loc[outlier_index, 'Cost'] > threshold(df.loc[df.loc[:,'Journal title'] == df.loc[outlier_index,'Journal title'],'Cost']):\n",
    "            flagged_outliers.append(outlier_index)\n",
    "print(flagged_outliers)"
   ]
  },
  {
   "cell_type": "code",
   "execution_count": 21,
   "metadata": {},
   "outputs": [
    {
     "name": "stdout",
     "output_type": "stream",
     "text": [
      "438       3938.82\n",
      "483       3948.42\n",
      "484       4163.88\n",
      "545       4800.00\n",
      "639       4800.00\n",
      "1441    192645.00\n",
      "1940    201024.00\n",
      "Name: Cost, dtype: float64\n",
      "2684.5099999999998\n",
      "3171.7675\n",
      "3171.7675\n",
      "2625.421428571429\n",
      "2819.175\n",
      "1898.3490452261308\n",
      "15176.788\n"
     ]
    }
   ],
   "source": [
    "#Compare the costs of the flagged outliers to the means of their journals\n",
    "\n",
    "print(df.loc[flagged_outliers, 'Cost'])\n",
    "\n",
    "for i in range(len(flagged_outliers)):\n",
    "    print(df.loc[df.loc[:,'Journal title']==df.loc[flagged_outliers[i],'Journal title'], 'Cost'].mean())"
   ]
  },
  {
   "cell_type": "markdown",
   "metadata": {},
   "source": [
    "Indices 1441 and  1940 will be multiplied by .01 to fit back into their datasets, these are the only 2 values that seem unrealistically high and they appear to have been entered incorrectly"
   ]
  },
  {
   "cell_type": "code",
   "execution_count": 22,
   "metadata": {},
   "outputs": [],
   "source": [
    "df.loc[1441, 'Cost'] = df.loc[1441, 'Cost']*.01\n",
    "df.loc[1940, 'Cost'] = df.loc[1940, 'Cost']*.01"
   ]
  },
  {
   "cell_type": "markdown",
   "metadata": {},
   "source": [
    "# Next, calculate the mean, median, and standard deviation of the open-access cost per article for each journal"
   ]
  },
  {
   "cell_type": "code",
   "execution_count": 23,
   "metadata": {},
   "outputs": [
    {
     "data": {
      "image/png": "[encoded data removed]",
      "text/plain": [
       "<Figure size 432x288 with 1 Axes>"
      ]
     },
     "metadata": {
      "needs_background": "light"
     },
     "output_type": "display_data"
    }
   ],
   "source": [
    "#mean\n",
    "means = df.groupby('Journal title')['Cost'].mean()\n",
    "means = means.sort_values(ascending=False)\n",
    "means_df = pd.DataFrame(means[0:20])\n",
    "means_df['Journal'] = means.index[0:20]\n",
    "ax = sns.barplot(x='Cost',y='Journal', data=means_df)\n",
    "plt.suptitle('Mean Cost to Publish per Journal')\n",
    "plt.show()"
   ]
  },
  {
   "cell_type": "code",
   "execution_count": 25,
   "metadata": {},
   "outputs": [
    {
     "data": {
      "image/png": "[encoded data removed]",
      "text/plain": [
       "<Figure size 432x288 with 1 Axes>"
      ]
     },
     "metadata": {
      "needs_background": "light"
     },
     "output_type": "display_data"
    }
   ],
   "source": [
    "#median\n",
    "medians = df.groupby('Journal title')['Cost'].median()\n",
    "medians = medians.sort_values(ascending=False)\n",
    "medians_df = pd.DataFrame(medians[0:20])\n",
    "medians_df['Journal'] = medians.index[0:20]\n",
    "ax = sns.barplot(x='Cost',y='Journal', data=medians_df)\n",
    "plt.suptitle('Median Cost to Publish per Journal')\n",
    "plt.show()"
   ]
  },
  {
   "cell_type": "code",
   "execution_count": 26,
   "metadata": {},
   "outputs": [
    {
     "data": {
      "image/png": "[encoded data removed]",
      "text/plain": [
       "<Figure size 432x288 with 1 Axes>"
      ]
     },
     "metadata": {
      "needs_background": "light"
     },
     "output_type": "display_data"
    }
   ],
   "source": [
    "#Standard deviation\n",
    "std = df.groupby('Journal title')['Cost'].std()\n",
    "std = std.sort_values(ascending=False)\n",
    "std_df = pd.DataFrame(std[0:20])\n",
    "std_df['Journal'] = std.index[0:20]\n",
    "ax = sns.barplot(x='Cost',y='Journal', data=std_df)\n",
    "plt.suptitle('Standard Deviation of Cost to Publish per Journal')\n",
    "plt.show()"
   ]
  },
  {
   "cell_type": "markdown",
   "metadata": {},
   "source": [
    "# Bonus find the average cost per subject area\n",
    "    \n",
    "    1. Create list of subjects\n",
    "    2. Create dataframe w/ subjects and average cost of journals in that subject"
   ]
  },
  {
   "cell_type": "code",
   "execution_count": 44,
   "metadata": {},
   "outputs": [],
   "source": [
    "#Create search items to categorize into each subject\n",
    "\n",
    "subjects = [{'subject': 'chemistry', 'search_items':['chem']},\n",
    "            {'subject': 'biology', 'search_items':['bio']},\n",
    "            {'subject': 'medicine', 'search_items':['med']},\n",
    "            {'subject': 'immunology', 'search_items':['immun']},\n",
    "            {'subject': 'neurology', 'search_items':['neuro','brain']},\n",
    "            {'subject': 'psychology', 'search_items':['psych']},\n",
    "            {'subject': 'virology', 'search_items':['viro', 'virus']},\n",
    "            {'subject': 'cell science', 'search_items':['cell']},\n",
    "            {'subject': 'genetics', 'search_items':['gene']},\n",
    "            {'subject': 'cancer', 'search_items':['cancer', 'onco']}]"
   ]
  },
  {
   "cell_type": "markdown",
   "metadata": {},
   "source": [
    "The following loop will iterate through each search item, search the journal titles for those items, then add them to a list where each index is a seperate subject, some journals will be categorized into multiple subjects"
   ]
  },
  {
   "cell_type": "code",
   "execution_count": 45,
   "metadata": {},
   "outputs": [],
   "source": [
    "temp = []\n",
    "subjects_list = list(range(len(subjects)))\n",
    "\n",
    "for i in range(len(subjects)):\n",
    "    for ii in range(len(df['Journal title'])):\n",
    "        for iii in range(len(subjects[i]['search_items'])):\n",
    "            if subjects[i]['search_items'][iii] in df.loc[ii, 'Journal title']:\n",
    "                temp.append(df.loc[ii, 'Cost'])\n",
    "    subjects_list[i] = temp\n",
    "    temp = []        "
   ]
  },
  {
   "cell_type": "code",
   "execution_count": 47,
   "metadata": {},
   "outputs": [
    {
     "data": {
      "image/png": "[encoded data removed]",
      "text/plain": [
       "<Figure size 432x288 with 1 Axes>"
      ]
     },
     "metadata": {
      "needs_background": "light"
     },
     "output_type": "display_data"
    }
   ],
   "source": [
    "import statistics as stats\n",
    "subjects_df = pd.DataFrame()\n",
    "\n",
    "subject_means = []\n",
    "for i in range(len(subjects_list)):\n",
    "    subject_means.append(stats.mean(subjects_list[i]))\n",
    "\n",
    "names = []\n",
    "for subject in subjects:\n",
    "    names.append(subject['subject'].capitalize())\n",
    "    \n",
    "subjects_df['Mean'] = subject_means\n",
    "subjects_df['Subject'] = names\n",
    "subjects_df = subjects_df.sort_values(by='Mean', ascending=False)\n",
    "\n",
    "sns.barplot(y='Subject',x='Mean', data=subjects_df, palette='Set2')\n",
    "plt.suptitle('Average Cost per Subject Area')\n",
    "plt.show()"
   ]
  },
  {
   "cell_type": "code",
   "execution_count": null,
   "metadata": {},
   "outputs": [],
   "source": []
  }
 ],
 "metadata": {
  "kernelspec": {
   "display_name": "Python 3",
   "language": "python",
   "name": "python3"
  },
  "language_info": {
   "codemirror_mode": {
    "name": "ipython",
    "version": 3
   },
   "file_extension": ".py",
   "mimetype": "text/x-python",
   "name": "python",
   "nbconvert_exporter": "python",
   "pygments_lexer": "ipython3",
   "version": "3.7.3"
  }
 },
 "nbformat": 4,
 "nbformat_minor": 2
}
